{
 "cells": [
  {
   "cell_type": "markdown",
   "metadata": {},
   "source": [
    "# Kaggle example"
   ]
  },
  {
   "cell_type": "code",
   "execution_count": 60,
   "metadata": {},
   "outputs": [],
   "source": [
    "# https://www.kaggle.com/amarpreetsingh/stock-prediction-lstm-using-keras\n",
    "\n",
    "# with some fixes..."
   ]
  },
  {
   "cell_type": "code",
   "execution_count": 9,
   "metadata": {},
   "outputs": [
    {
     "name": "stdout",
     "output_type": "stream",
     "text": [
      "Archive.zip\n",
      "all_stocks_5yr.csv\n",
      "all_stocks_5yr.csv.zip\n",
      "cleaned.csv\n",
      "int-combined.csv\n",
      "int-rate-1995.csv\n",
      "int-rate-1996.csv\n",
      "int-rate-1997.csv\n",
      "int-rate-1998.csv\n",
      "int-rate-1999.csv\n",
      "int-rate-2000.csv\n",
      "int-rate-2001.csv\n",
      "int-rate-2002.csv\n",
      "int-rate-2003.csv\n",
      "int-rate-2004.csv\n",
      "int-rate-2005.csv\n",
      "int-rate-2006.csv\n",
      "int-rate-2007.csv\n",
      "int-rate-2008.csv\n",
      "int-rate-2009.csv\n",
      "int-rate-2010.csv\n",
      "int-rate-2011.csv\n",
      "int-rate-2012.csv\n",
      "int-rate-2013.csv\n",
      "int-rate-2014.csv\n",
      "int-rate-2015.csv\n",
      "int-rate-2016.csv\n",
      "int-rate-2017.csv\n",
      "merged.csv\n",
      "merged_irate.csv\n",
      "pollution.csv\n",
      "raw.csv\n",
      "spy.csv\n",
      "vix.csv\n",
      "vixarchive.csv\n",
      "vixarchive.xlsx\n",
      "vixcurrent.csv\n",
      "\n"
     ]
    }
   ],
   "source": [
    "# This Python 3 environment comes with many helpful analytics libraries installed\n",
    "# It is defined by the kaggle/python docker image: https://github.com/kaggle/docker-python\n",
    "# For example, here's several helpful packages to load in \n",
    "\n",
    "import numpy as np # linear algebra\n",
    "import pandas as pd # data processing, CSV file I/O (e.g. pd.read_csv)\n",
    "from keras.models import Sequential\n",
    "from keras.layers import LSTM,Dense\n",
    "from sklearn.preprocessing import MinMaxScaler\n",
    "import matplotlib.pyplot as plt\n",
    "# Input data files are available in the \"../input/\" directory.\n",
    "# For example, running this (by clicking run or pressing Shift+Enter) will list the files in the input directory\n",
    "\n",
    "from subprocess import check_output\n",
    "print(check_output([\"ls -l\", \"../data\"]).decode(\"utf8\"))\n",
    "\n",
    "# Any results you write to the current directory are saved as output."
   ]
  },
  {
   "cell_type": "code",
   "execution_count": 11,
   "metadata": {},
   "outputs": [],
   "source": [
    "data = pd.read_csv('../data/all_stocks_5yr.csv')\n",
    "cl = data[data['Name']=='MMM'].close"
   ]
  },
  {
   "cell_type": "code",
   "execution_count": 18,
   "metadata": {},
   "outputs": [
    {
     "data": {
      "text/plain": [
       "(1259,)"
      ]
     },
     "execution_count": 18,
     "metadata": {},
     "output_type": "execute_result"
    }
   ],
   "source": [
    "cl[:10]\n",
    "cl.shape"
   ]
  },
  {
   "cell_type": "code",
   "execution_count": 23,
   "metadata": {},
   "outputs": [
    {
     "data": {
      "text/plain": [
       "array([[0.00580061],\n",
       "       [0.00554564],\n",
       "       [0.01090005],\n",
       "       ...,\n",
       "       [0.82668281],\n",
       "       [0.84064253],\n",
       "       [0.83783784]])"
      ]
     },
     "execution_count": 23,
     "metadata": {},
     "output_type": "execute_result"
    }
   ],
   "source": [
    "scl = MinMaxScaler()\n",
    "#Scale the data\n",
    "cl = cl.values.reshape(cl.shape[0],1)\n",
    "cl = scl.fit_transform(cl)\n",
    "cl"
   ]
  },
  {
   "cell_type": "code",
   "execution_count": 61,
   "metadata": {},
   "outputs": [
    {
     "name": "stdout",
     "output_type": "stream",
     "text": [
      "990\n",
      "248\n",
      "990\n",
      "248\n"
     ]
    },
    {
     "data": {
      "text/plain": [
       "array([[0.00580061, 0.00554564, 0.01090005, 0.00707547, 0.00656553,\n",
       "        0.00943396, 0.01548955, 0.00892402, 0.00618307, 0.01140999,\n",
       "        0.        , 0.00356961, 0.01160122, 0.01434217, 0.01287608,\n",
       "        0.00975268, 0.01721061, 0.01854921, 0.01778429, 0.02524222],\n",
       "       [0.00554564, 0.01090005, 0.00707547, 0.00656553, 0.00943396,\n",
       "        0.01548955, 0.00892402, 0.00618307, 0.01140999, 0.        ,\n",
       "        0.00356961, 0.01160122, 0.01434217, 0.01287608, 0.00975268,\n",
       "        0.01721061, 0.01854921, 0.01778429, 0.02524222, 0.02587965],\n",
       "       [0.01090005, 0.00707547, 0.00656553, 0.00943396, 0.01548955,\n",
       "        0.00892402, 0.00618307, 0.01140999, 0.        , 0.00356961,\n",
       "        0.01160122, 0.01434217, 0.01287608, 0.00975268, 0.01721061,\n",
       "        0.01854921, 0.01778429, 0.02524222, 0.02587965, 0.02154513],\n",
       "       [0.00707547, 0.00656553, 0.00943396, 0.01548955, 0.00892402,\n",
       "        0.00618307, 0.01140999, 0.        , 0.00356961, 0.01160122,\n",
       "        0.01434217, 0.01287608, 0.00975268, 0.01721061, 0.01854921,\n",
       "        0.01778429, 0.02524222, 0.02587965, 0.02154513, 0.02129016],\n",
       "       [0.00656553, 0.00943396, 0.01548955, 0.00892402, 0.00618307,\n",
       "        0.01140999, 0.        , 0.00356961, 0.01160122, 0.01434217,\n",
       "        0.01287608, 0.00975268, 0.01721061, 0.01854921, 0.01778429,\n",
       "        0.02524222, 0.02587965, 0.02154513, 0.02129016, 0.02721826]])"
      ]
     },
     "execution_count": 61,
     "metadata": {},
     "output_type": "execute_result"
    }
   ],
   "source": [
    "#Create a function to process the data into 7 day look back slices\n",
    "def processData(data,lb):\n",
    "    X,Y = [],[]\n",
    "    for i in range(len(data)-lb-1):\n",
    "        X.append(data[i:(i+lb),0])\n",
    "        Y.append(data[(i+lb),0])\n",
    "    return np.array(X),np.array(Y)\n",
    "\n",
    "lb = 7\n",
    "X,y = processData(cl,lb)\n",
    "X_train,X_test = X[:int(X.shape[0]*0.80)],X[int(X.shape[0]*0.80):]\n",
    "y_train,y_test = y[:int(y.shape[0]*0.80)],y[int(y.shape[0]*0.80):]\n",
    "print(X_train.shape[0])\n",
    "print(X_test.shape[0])\n",
    "print(y_train.shape[0])\n",
    "print(y_test.shape[0])\n",
    "\n",
    "X_train[:5]\n",
    "#y_train[:5]\n"
   ]
  },
  {
   "cell_type": "code",
   "execution_count": null,
   "metadata": {},
   "outputs": [
    {
     "name": "stdout",
     "output_type": "stream",
     "text": [
      "Train on 990 samples, validate on 248 samples\n",
      "Epoch 1/300\n",
      "990/990 [==============================] - 4s 4ms/step - loss: 7.7105e-04 - val_loss: 0.0096\n",
      "Epoch 2/300\n",
      "990/990 [==============================] - 2s 2ms/step - loss: 0.0031 - val_loss: 0.0141\n",
      "Epoch 3/300\n",
      "990/990 [==============================] - 2s 2ms/step - loss: 0.0027 - val_loss: 9.8931e-04\n",
      "Epoch 4/300\n",
      "990/990 [==============================] - 2s 2ms/step - loss: 0.0029 - val_loss: 9.7228e-04\n",
      "Epoch 5/300\n",
      "990/990 [==============================] - 3s 3ms/step - loss: 0.0018 - val_loss: 5.3124e-04\n",
      "Epoch 6/300\n",
      "990/990 [==============================] - 2s 2ms/step - loss: 3.6958e-04 - val_loss: 5.9136e-04\n",
      "Epoch 7/300\n",
      "990/990 [==============================] - 2s 2ms/step - loss: 3.3934e-04 - val_loss: 9.7623e-04\n",
      "Epoch 8/300\n",
      "990/990 [==============================] - 3s 3ms/step - loss: 2.6680e-04 - val_loss: 5.2694e-04\n",
      "Epoch 9/300\n",
      "990/990 [==============================] - 2s 3ms/step - loss: 2.4168e-04 - val_loss: 5.7944e-04\n",
      "Epoch 10/300\n",
      "990/990 [==============================] - 2s 2ms/step - loss: 2.2812e-04 - val_loss: 6.6260e-04\n",
      "Epoch 11/300\n",
      "990/990 [==============================] - 2s 3ms/step - loss: 2.6940e-04 - val_loss: 6.5403e-04\n",
      "Epoch 12/300\n",
      "990/990 [==============================] - 2s 2ms/step - loss: 3.1487e-04 - val_loss: 6.5181e-04\n",
      "Epoch 13/300\n",
      "990/990 [==============================] - 2s 2ms/step - loss: 3.4967e-04 - val_loss: 6.5986e-04\n",
      "Epoch 14/300\n",
      "990/990 [==============================] - 2s 3ms/step - loss: 3.7343e-04 - val_loss: 6.6813e-04\n"
     ]
    }
   ],
   "source": [
    "#Build the model\n",
    "model = Sequential()\n",
    "model.add(LSTM(256,input_shape=(lb,1)))\n",
    "model.add(Dense(1))\n",
    "model.compile(optimizer='adam',loss='mse')\n",
    "#Reshape data for (Sample,Timestep,Features) \n",
    "X_train = X_train.reshape((X_train.shape[0],X_train.shape[1],1))\n",
    "X_test = X_test.reshape((X_test.shape[0],X_test.shape[1],1))\n",
    "#Fit model with history to check for overfitting\n",
    "history = model.fit(X_train,y_train,epochs=300,validation_data=(X_test,y_test),shuffle=False)"
   ]
  },
  {
   "cell_type": "code",
   "execution_count": 32,
   "metadata": {},
   "outputs": [
    {
     "data": {
      "text/plain": [
       "[<matplotlib.lines.Line2D at 0x1a44c22198>]"
      ]
     },
     "execution_count": 32,
     "metadata": {},
     "output_type": "execute_result"
    },
    {
     "data": {
      "image/png": "[encoded data removed]",
      "text/plain": [
       "<Figure size 432x288 with 1 Axes>"
      ]
     },
     "metadata": {
      "needs_background": "light"
     },
     "output_type": "display_data"
    }
   ],
   "source": [
    "plt.plot(history.history['loss'])\n",
    "plt.plot(history.history['val_loss'])"
   ]
  },
  {
   "cell_type": "code",
   "execution_count": 33,
   "metadata": {},
   "outputs": [
    {
     "data": {
      "text/plain": [
       "array([0.46959459, 0.46577002, 0.46800102, 0.46169046, 0.46717236,\n",
       "       0.46755482, 0.47176186])"
      ]
     },
     "execution_count": 33,
     "metadata": {},
     "output_type": "execute_result"
    }
   ],
   "source": [
    "X_test[0]"
   ]
  },
  {
   "cell_type": "code",
   "execution_count": 45,
   "metadata": {},
   "outputs": [
    {
     "name": "stdout",
     "output_type": "stream",
     "text": [
      "(251, 7)\n"
     ]
    },
    {
     "data": {
      "text/plain": [
       "[<matplotlib.lines.Line2D at 0x1a489e5358>]"
      ]
     },
     "execution_count": 45,
     "metadata": {},
     "output_type": "execute_result"
    },
    {
     "data": {
      "image/png": "[encoded data removed]",
      "text/plain": [
       "<Figure size 432x288 with 1 Axes>"
      ]
     },
     "metadata": {
      "needs_background": "light"
     },
     "output_type": "display_data"
    }
   ],
   "source": [
    "Xt = model.predict(X_test.reshape(-1,7,1))\n",
    "plt.plot(scl.inverse_transform(y_test.reshape(-1,1)))\n",
    "plt.plot(scl.inverse_transform(Xt))"
   ]
  },
  {
   "cell_type": "code",
   "execution_count": 56,
   "metadata": {},
   "outputs": [
    {
     "name": "stdout",
     "output_type": "stream",
     "text": [
      "predicted:[[176.827]], actual:[[177.07]]\n",
      "predicted:[[178.09036]], actual:[[178.18]]\n",
      "predicted:[[179.19138]], actual:[[179.]]\n",
      "predicted:[[179.96576]], actual:[[181.02]]\n",
      "predicted:[[181.85156]], actual:[[181.6]]\n",
      "predicted:[[182.42316]], actual:[[181.7]]\n",
      "predicted:[[182.46318]], actual:[[183.41]]\n",
      "predicted:[[184.0027]], actual:[[182.95]]\n",
      "predicted:[[183.60345]], actual:[[183.37]]\n",
      "predicted:[[183.94307]], actual:[[186.04]]\n",
      "predicted:[[186.45117]], actual:[[187.19]]\n",
      "predicted:[[187.63432]], actual:[[187.41]]\n",
      "predicted:[[187.83133]], actual:[[186.91]]\n",
      "predicted:[[187.25945]], actual:[[186.35]]\n",
      "predicted:[[186.62825]], actual:[[189.86]]\n",
      "predicted:[[189.9104]], actual:[[189.89]]\n",
      "predicted:[[190.10114]], actual:[[189.31]]\n",
      "predicted:[[189.53949]], actual:[[188.9]]\n",
      "predicted:[[189.01625]], actual:[[189.09]]\n",
      "predicted:[[189.13853]], actual:[[189.51]]\n",
      "predicted:[[189.56383]], actual:[[189.9]]\n",
      "predicted:[[189.98825]], actual:[[191.21]]\n",
      "predicted:[[191.22543]], actual:[[191.52]]\n",
      "predicted:[[191.53152]], actual:[[190.33]]\n",
      "predicted:[[190.38626]], actual:[[191.2]]\n",
      "predicted:[[191.10881]], actual:[[190.31]]\n",
      "predicted:[[190.29332]], actual:[[192.36]]\n",
      "predicted:[[192.21854]], actual:[[193.01]]\n",
      "predicted:[[192.8947]], actual:[[192.13]]\n",
      "predicted:[[192.08667]], actual:[[192.22]]\n",
      "predicted:[[192.06743]], actual:[[192.14]]\n",
      "predicted:[[191.96304]], actual:[[191.51]]\n",
      "predicted:[[191.38504]], actual:[[190.43]]\n",
      "predicted:[[190.37364]], actual:[[190.99]]\n",
      "predicted:[[190.87772]], actual:[[190.68]]\n",
      "predicted:[[190.63733]], actual:[[191.28]]\n",
      "predicted:[[191.22989]], actual:[[191.33]]\n",
      "predicted:[[191.2941]], actual:[[190.72]]\n",
      "predicted:[[190.71515]], actual:[[190.19]]\n",
      "predicted:[[190.17201]], actual:[[190.24]]\n",
      "predicted:[[190.20338]], actual:[[189.89]]\n",
      "predicted:[[189.90245]], actual:[[189.99]]\n",
      "predicted:[[190.01436]], actual:[[189.71]]\n",
      "predicted:[[189.76517]], actual:[[190.07]]\n",
      "predicted:[[190.10028]], actual:[[189.7]]\n",
      "predicted:[[189.7664]], actual:[[188.65]]\n",
      "predicted:[[188.77017]], actual:[[190.36]]\n",
      "predicted:[[190.3361]], actual:[[190.22]]\n",
      "predicted:[[190.2867]], actual:[[189.83]]\n",
      "predicted:[[189.93137]], actual:[[191.16]]\n",
      "predicted:[[191.1255]], actual:[[191.5]]\n",
      "predicted:[[191.47346]], actual:[[194.23]]\n",
      "predicted:[[194.0359]], actual:[[195.13]]\n",
      "predicted:[[194.91614]], actual:[[195.]]\n",
      "predicted:[[194.75883]], actual:[[196.11]]\n",
      "predicted:[[195.68178]], actual:[[195.83]]\n",
      "predicted:[[195.39325]], actual:[[194.81]]\n",
      "predicted:[[194.41798]], actual:[[196.53]]\n",
      "predicted:[[195.98093]], actual:[[197.63]]\n",
      "predicted:[[197.05923]], actual:[[199.51]]\n",
      "predicted:[[198.8549]], actual:[[199.4]]\n",
      "predicted:[[198.74144]], actual:[[198.65]]\n",
      "predicted:[[197.97078]], actual:[[197.96]]\n",
      "predicted:[[197.22952]], actual:[[196.64]]\n",
      "predicted:[[195.97992]], actual:[[196.75]]\n",
      "predicted:[[196.08722]], actual:[[196.57]]\n",
      "predicted:[[195.9776]], actual:[[197.63]]\n",
      "predicted:[[197.01482]], actual:[[197.91]]\n",
      "predicted:[[197.30954]], actual:[[194.84]]\n",
      "predicted:[[194.45203]], actual:[[195.24]]\n",
      "predicted:[[194.6969]], actual:[[195.8]]\n",
      "predicted:[[195.23915]], actual:[[198.51]]\n",
      "predicted:[[197.8795]], actual:[[197.73]]\n",
      "predicted:[[197.23495]], actual:[[197.49]]\n",
      "predicted:[[196.95253]], actual:[[199.54]]\n",
      "predicted:[[198.74565]], actual:[[200.67]]\n",
      "predicted:[[199.83191]], actual:[[202.44]]\n",
      "predicted:[[201.49852]], actual:[[204.47]]\n",
      "predicted:[[203.34814]], actual:[[204.35]]\n",
      "predicted:[[203.18881]], actual:[[206.7]]\n",
      "predicted:[[205.27707]], actual:[[206.22]]\n",
      "predicted:[[204.77997]], actual:[[205.41]]\n",
      "predicted:[[204.00961]], actual:[[205.01]]\n",
      "predicted:[[203.56343]], actual:[[205.94]]\n",
      "predicted:[[204.41777]], actual:[[206.93]]\n",
      "predicted:[[205.3688]], actual:[[207.39]]\n",
      "predicted:[[205.83469]], actual:[[209.11]]\n",
      "predicted:[[207.39415]], actual:[[210.01]]\n",
      "predicted:[[208.18356]], actual:[[211.29]]\n",
      "predicted:[[209.33354]], actual:[[213.24]]\n",
      "predicted:[[211.06728]], actual:[[213.36]]\n",
      "predicted:[[211.1362]], actual:[[213.36]]\n",
      "predicted:[[211.09274]], actual:[[212.86]]\n",
      "predicted:[[210.56711]], actual:[[212.22]]\n",
      "predicted:[[209.95718]], actual:[[212.9]]\n",
      "predicted:[[210.57721]], actual:[[212.61]]\n",
      "predicted:[[210.33458]], actual:[[209.78]]\n",
      "predicted:[[207.77448]], actual:[[210.62]]\n",
      "predicted:[[208.51593]], actual:[[207.85]]\n",
      "predicted:[[205.9738]], actual:[[208.19]]\n",
      "predicted:[[206.35449]], actual:[[209.83]]\n",
      "predicted:[[207.87596]], actual:[[209.76]]\n",
      "predicted:[[207.9016]], actual:[[208.02]]\n",
      "predicted:[[206.3125]], actual:[[209.59]]\n",
      "predicted:[[207.69658]], actual:[[210.49]]\n",
      "predicted:[[208.49873]], actual:[[209.66]]\n",
      "predicted:[[207.79773]], actual:[[211.3]]\n",
      "predicted:[[209.279]], actual:[[211.09]]\n",
      "predicted:[[209.0456]], actual:[[211.77]]\n",
      "predicted:[[209.67677]], actual:[[211.68]]\n",
      "predicted:[[209.5585]], actual:[[211.31]]\n",
      "predicted:[[209.21538]], actual:[[212.1]]\n",
      "predicted:[[209.91162]], actual:[[212.45]]\n",
      "predicted:[[210.23549]], actual:[[211.16]]\n",
      "predicted:[[209.06863]], actual:[[210.]]\n",
      "predicted:[[207.98463]], actual:[[199.39]]\n",
      "predicted:[[198.2233]], actual:[[199.03]]\n",
      "predicted:[[197.67657]], actual:[[200.05]]\n",
      "predicted:[[198.73846]], actual:[[199.72]]\n",
      "predicted:[[198.82516]], actual:[[201.17]]\n",
      "predicted:[[200.3013]], actual:[[207.65]]\n",
      "predicted:[[206.31741]], actual:[[205.41]]\n",
      "predicted:[[204.23247]], actual:[[207.62]]\n",
      "predicted:[[206.19052]], actual:[[207.65]]\n",
      "predicted:[[206.01794]], actual:[[207.44]]\n",
      "predicted:[[205.81772]], actual:[[206.43]]\n",
      "predicted:[[204.83954]], actual:[[206.48]]\n",
      "predicted:[[204.88528]], actual:[[206.23]]\n",
      "predicted:[[204.64766]], actual:[[205.98]]\n",
      "predicted:[[204.4609]], actual:[[207.37]]\n",
      "predicted:[[205.75182]], actual:[[207.18]]\n",
      "predicted:[[205.59627]], actual:[[207.92]]\n",
      "predicted:[[206.2809]], actual:[[205.35]]\n",
      "predicted:[[203.88214]], actual:[[203.53]]\n",
      "predicted:[[202.15923]], actual:[[204.55]]\n",
      "predicted:[[203.05698]], actual:[[205.46]]\n",
      "predicted:[[203.9986]], actual:[[202.67]]\n",
      "predicted:[[201.51982]], actual:[[202.12]]\n",
      "predicted:[[200.96097]], actual:[[202.13]]\n",
      "predicted:[[200.91905]], actual:[[202.46]]\n",
      "predicted:[[201.29726]], actual:[[202.92]]\n",
      "predicted:[[201.78456]], actual:[[203.69]]\n",
      "predicted:[[202.51743]], actual:[[204.32]]\n",
      "predicted:[[203.08289]], actual:[[203.56]]\n",
      "predicted:[[202.3643]], actual:[[200.98]]\n",
      "predicted:[[199.93507]], actual:[[202.05]]\n",
      "predicted:[[200.85487]], actual:[[204.46]]\n",
      "predicted:[[203.13806]], actual:[[205.69]]\n",
      "predicted:[[204.39392]], actual:[[209.56]]\n",
      "predicted:[[207.96765]], actual:[[209.64]]\n",
      "predicted:[[207.96436]], actual:[[209.49]]\n",
      "predicted:[[207.74918]], actual:[[211.43]]\n",
      "predicted:[[209.39381]], actual:[[213.35]]\n",
      "predicted:[[211.12038]], actual:[[213.76]]\n",
      "predicted:[[211.50249]], actual:[[213.56]]\n",
      "predicted:[[211.28651]], actual:[[210.51]]\n",
      "predicted:[[208.42139]], actual:[[210.44]]\n",
      "predicted:[[208.30109]], actual:[[210.76]]\n",
      "predicted:[[208.59445]], actual:[[210.73]]\n",
      "predicted:[[208.67502]], actual:[[211.03]]\n",
      "predicted:[[208.99046]], actual:[[209.48]]\n",
      "predicted:[[207.56691]], actual:[[209.55]]\n",
      "predicted:[[207.6057]], actual:[[209.9]]\n",
      "predicted:[[207.91533]], actual:[[212.76]]\n",
      "predicted:[[210.59064]], actual:[[214.57]]\n",
      "predicted:[[212.25966]], actual:[[216.52]]\n",
      "predicted:[[214.0369]], actual:[[216.37]]\n",
      "predicted:[[213.80003]], actual:[[216.52]]\n",
      "predicted:[[213.862]], actual:[[216.68]]\n",
      "predicted:[[213.92117]], actual:[[216.75]]\n",
      "predicted:[[213.97737]], actual:[[216.51]]\n",
      "predicted:[[213.75996]], actual:[[217.59]]\n",
      "predicted:[[214.74736]], actual:[[217.72]]\n",
      "predicted:[[214.85242]], actual:[[218.72]]\n",
      "predicted:[[215.77579]], actual:[[217.75]]\n",
      "predicted:[[214.85838]], actual:[[218.27]]\n",
      "predicted:[[215.33]], actual:[[219.24]]\n",
      "predicted:[[216.16434]], actual:[[221.32]]\n",
      "predicted:[[218.07178]], actual:[[221.55]]\n",
      "predicted:[[218.25713]], actual:[[234.65]]\n",
      "predicted:[[230.11046]], actual:[[237.91]]\n",
      "predicted:[[232.508]], actual:[[232.94]]\n",
      "predicted:[[228.24947]], actual:[[234.74]]\n",
      "predicted:[[229.63905]], actual:[[231.02]]\n",
      "predicted:[[225.97313]], actual:[[230.19]]\n",
      "predicted:[[225.41647]], actual:[[230.18]]\n",
      "predicted:[[225.38576]], actual:[[232.23]]\n",
      "predicted:[[227.33362]], actual:[[232.22]]\n",
      "predicted:[[227.31021]], actual:[[230.31]]\n",
      "predicted:[[225.66974]], actual:[[230.05]]\n",
      "predicted:[[225.40543]], actual:[[229.83]]\n",
      "predicted:[[225.15881]], actual:[[228.39]]\n",
      "predicted:[[223.91882]], actual:[[227.45]]\n",
      "predicted:[[223.1323]], actual:[[228.22]]\n",
      "predicted:[[223.83534]], actual:[[229.33]]\n",
      "predicted:[[224.8428]], actual:[[227.4]]\n",
      "predicted:[[223.14372]], actual:[[229.42]]\n",
      "predicted:[[225.00235]], actual:[[229.36]]\n",
      "predicted:[[224.8323]], actual:[[231.49]]\n",
      "predicted:[[226.81792]], actual:[[234.09]]\n",
      "predicted:[[229.04613]], actual:[[231.58]]\n",
      "predicted:[[226.77176]], actual:[[231.38]]\n",
      "predicted:[[226.62274]], actual:[[234.]]\n",
      "predicted:[[228.83438]], actual:[[235.63]]\n",
      "predicted:[[230.25558]], actual:[[238.01]]\n",
      "predicted:[[232.40436]], actual:[[243.14]]\n",
      "predicted:[[236.85167]], actual:[[241.15]]\n",
      "predicted:[[234.87817]], actual:[[239.26]]\n",
      "predicted:[[233.31493]], actual:[[238.26]]\n",
      "predicted:[[232.26553]], actual:[[238.67]]\n",
      "predicted:[[232.62646]], actual:[[240.3]]\n",
      "predicted:[[234.0966]], actual:[[238.13]]\n",
      "predicted:[[232.20062]], actual:[[239.3]]\n",
      "predicted:[[233.34293]], actual:[[236.58]]\n",
      "predicted:[[230.79117]], actual:[[239.11]]\n",
      "predicted:[[233.19215]], actual:[[238.08]]\n",
      "predicted:[[232.11433]], actual:[[238.]]\n",
      "predicted:[[232.21869]], actual:[[238.42]]\n",
      "predicted:[[232.50711]], actual:[[238.39]]\n",
      "predicted:[[232.48831]], actual:[[236.92]]\n",
      "predicted:[[231.18839]], actual:[[234.78]]\n",
      "predicted:[[229.32889]], actual:[[234.73]]\n"
     ]
    },
    {
     "name": "stdout",
     "output_type": "stream",
     "text": [
      "predicted:[[229.30312]], actual:[[235.45]]\n",
      "predicted:[[229.94516]], actual:[[236.2]]\n",
      "predicted:[[230.67043]], actual:[[235.72]]\n",
      "predicted:[[230.2634]], actual:[[235.37]]\n",
      "predicted:[[229.96393]], actual:[[235.64]]\n",
      "predicted:[[230.16806]], actual:[[235.63]]\n",
      "predicted:[[230.1489]], actual:[[238.71]]\n",
      "predicted:[[232.91069]], actual:[[240.57]]\n",
      "predicted:[[234.45537]], actual:[[239.79]]\n",
      "predicted:[[233.77136]], actual:[[241.28]]\n",
      "predicted:[[235.06697]], actual:[[241.14]]\n",
      "predicted:[[234.7906]], actual:[[242.31]]\n",
      "predicted:[[235.8623]], actual:[[244.47]]\n",
      "predicted:[[237.68596]], actual:[[244.74]]\n",
      "predicted:[[237.86984]], actual:[[248.11]]\n",
      "predicted:[[240.84148]], actual:[[245.91]]\n",
      "predicted:[[238.70694]], actual:[[248.18]]\n",
      "predicted:[[240.85793]], actual:[[247.3]]\n",
      "predicted:[[239.81607]], actual:[[246.31]]\n",
      "predicted:[[239.0961]], actual:[[247.69]]\n",
      "predicted:[[240.25703]], actual:[[252.36]]\n",
      "predicted:[[244.29298]], actual:[[258.63]]\n",
      "predicted:[[249.58798]], actual:[[256.01]]\n",
      "predicted:[[247.10818]], actual:[[251.54]]\n",
      "predicted:[[243.44643]], actual:[[250.5]]\n",
      "predicted:[[242.40887]], actual:[[247.94]]\n",
      "predicted:[[240.08765]], actual:[[245.17]]\n",
      "predicted:[[237.8633]], actual:[[231.44]]\n"
     ]
    }
   ],
   "source": [
    "act = []\n",
    "pred = []\n",
    "for i in range(250):\n",
    "#i=249\n",
    "    Xt = model.predict(X_test[i].reshape(1,7,1))\n",
    "    print('predicted:{0}, actual:{1}'.format(scl.inverse_transform(Xt),scl.inverse_transform(y_test[i].reshape(-1,1))))\n",
    "    pred.append(scl.inverse_transform(Xt))\n",
    "    act.append(scl.inverse_transform(y_test[i].reshape(-1,1)))"
   ]
  },
  {
   "cell_type": "code",
   "execution_count": 57,
   "metadata": {},
   "outputs": [],
   "source": [
    "result_df = pd.DataFrame({'pred':list(np.reshape(pred, (-1))),'act':list(np.reshape(act, (-1)))})"
   ]
  },
  {
   "cell_type": "code",
   "execution_count": 58,
   "metadata": {},
   "outputs": [
    {
     "data": {
      "text/plain": [
       "<matplotlib.axes._subplots.AxesSubplot at 0x1a4c1a9198>"
      ]
     },
     "execution_count": 58,
     "metadata": {},
     "output_type": "execute_result"
    },
    {
     "data": {
      "image/png": "[encoded data removed]",
      "text/plain": [
       "<Figure size 432x288 with 1 Axes>"
      ]
     },
     "metadata": {
      "needs_background": "light"
     },
     "output_type": "display_data"
    }
   ],
   "source": [
    "result_df.plot(kind='line')"
   ]
  },
  {
   "cell_type": "code",
   "execution_count": 59,
   "metadata": {},
   "outputs": [
    {
     "data": {
      "text/plain": [
       "[<matplotlib.lines.Line2D at 0x1a4c2f1860>]"
      ]
     },
     "execution_count": 59,
     "metadata": {},
     "output_type": "execute_result"
    },
    {
     "data": {
      "image/png": "[encoded data removed]",
      "text/plain": [
       "<Figure size 432x288 with 1 Axes>"
      ]
     },
     "metadata": {
      "needs_background": "light"
     },
     "output_type": "display_data"
    }
   ],
   "source": [
    "Xt = model.predict(X_test.reshape(-1,7,1))\n",
    "plt.plot(scl.inverse_transform(y_test.reshape(-1,1)))\n",
    "plt.plot(scl.inverse_transform(Xt))"
   ]
  },
  {
   "cell_type": "code",
   "execution_count": 52,
   "metadata": {},
   "outputs": [
    {
     "data": {
      "text/plain": [
       "array([0.96003315, 1.        , 0.98329934, 0.95480622, 0.94817695,\n",
       "       0.93185875, 0.91420194])"
      ]
     },
     "execution_count": 52,
     "metadata": {},
     "output_type": "execute_result"
    }
   ],
   "source": [
    "X_test[249]"
   ]
  },
  {
   "cell_type": "code",
   "execution_count": 53,
   "metadata": {},
   "outputs": [
    {
     "data": {
      "text/plain": [
       "array([0.93026517, 0.96003315, 1.        , 0.98329934, 0.95480622,\n",
       "       0.94817695, 0.93185875])"
      ]
     },
     "execution_count": 53,
     "metadata": {},
     "output_type": "execute_result"
    }
   ],
   "source": [
    "X_test[248]"
   ]
  },
  {
   "cell_type": "code",
   "execution_count": null,
   "metadata": {},
   "outputs": [],
   "source": []
  }
 ],
 "metadata": {
  "kernelspec": {
   "display_name": "Python 3",
   "language": "python",
   "name": "python3"
  },
  "language_info": {
   "codemirror_mode": {
    "name": "ipython",
    "version": 3
   },
   "file_extension": ".py",
   "mimetype": "text/x-python",
   "name": "python",
   "nbconvert_exporter": "python",
   "pygments_lexer": "ipython3",
   "version": "3.7.3"
  }
 },
 "nbformat": 4,
 "nbformat_minor": 2
}
