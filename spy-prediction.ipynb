{
 "cells": [
  {
   "cell_type": "markdown",
   "metadata": {},
   "source": [
    "# Stock prediction"
   ]
  },
  {
   "cell_type": "code",
   "execution_count": 21,
   "metadata": {},
   "outputs": [],
   "source": [
    "# Imports\n",
    "import numpy as np\n",
    "from numpy import concatenate\n",
    "from matplotlib import pyplot\n",
    "import pandas as pd\n",
    "from pandas import read_csv\n",
    "from pandas import DataFrame\n",
    "from pandas import concat"
   ]
  },
  {
   "cell_type": "code",
   "execution_count": 26,
   "metadata": {},
   "outputs": [
    {
     "name": "stdout",
     "output_type": "stream",
     "text": [
      "[*********************100%***********************]  1 of 1 downloaded\n"
     ]
    },
    {
     "data": {
      "text/html": [
       "<div>\n",
       "<style scoped>\n",
       "    .dataframe tbody tr th:only-of-type {\n",
       "        vertical-align: middle;\n",
       "    }\n",
       "\n",
       "    .dataframe tbody tr th {\n",
       "        vertical-align: top;\n",
       "    }\n",
       "\n",
       "    .dataframe thead th {\n",
       "        text-align: right;\n",
       "    }\n",
       "</style>\n",
       "<table border=\"1\" class=\"dataframe\">\n",
       "  <thead>\n",
       "    <tr style=\"text-align: right;\">\n",
       "      <th></th>\n",
       "      <th>SPY_OPEN</th>\n",
       "      <th>SPY_HIGH</th>\n",
       "      <th>SPY_LOW</th>\n",
       "      <th>SPY_CLOSE</th>\n",
       "      <th>SPY_ADJ_CLOSE</th>\n",
       "      <th>SPY_VOLUME</th>\n",
       "    </tr>\n",
       "    <tr>\n",
       "      <th>Date</th>\n",
       "      <th></th>\n",
       "      <th></th>\n",
       "      <th></th>\n",
       "      <th></th>\n",
       "      <th></th>\n",
       "      <th></th>\n",
       "    </tr>\n",
       "  </thead>\n",
       "  <tbody>\n",
       "    <tr>\n",
       "      <th>2019-07-29</th>\n",
       "      <td>301.88</td>\n",
       "      <td>302.01</td>\n",
       "      <td>300.85</td>\n",
       "      <td>301.46</td>\n",
       "      <td>301.46</td>\n",
       "      <td>38126500</td>\n",
       "    </tr>\n",
       "    <tr>\n",
       "      <th>2019-07-30</th>\n",
       "      <td>299.91</td>\n",
       "      <td>301.17</td>\n",
       "      <td>299.49</td>\n",
       "      <td>300.72</td>\n",
       "      <td>300.72</td>\n",
       "      <td>45849000</td>\n",
       "    </tr>\n",
       "    <tr>\n",
       "      <th>2019-07-31</th>\n",
       "      <td>300.99</td>\n",
       "      <td>301.20</td>\n",
       "      <td>295.20</td>\n",
       "      <td>297.43</td>\n",
       "      <td>297.43</td>\n",
       "      <td>104245200</td>\n",
       "    </tr>\n",
       "    <tr>\n",
       "      <th>2019-08-01</th>\n",
       "      <td>297.60</td>\n",
       "      <td>300.87</td>\n",
       "      <td>293.96</td>\n",
       "      <td>294.84</td>\n",
       "      <td>294.84</td>\n",
       "      <td>142646600</td>\n",
       "    </tr>\n",
       "    <tr>\n",
       "      <th>2019-08-02</th>\n",
       "      <td>293.85</td>\n",
       "      <td>294.12</td>\n",
       "      <td>290.90</td>\n",
       "      <td>292.62</td>\n",
       "      <td>292.62</td>\n",
       "      <td>116749700</td>\n",
       "    </tr>\n",
       "    <tr>\n",
       "      <th>2019-08-05</th>\n",
       "      <td>288.09</td>\n",
       "      <td>288.21</td>\n",
       "      <td>281.72</td>\n",
       "      <td>283.82</td>\n",
       "      <td>283.82</td>\n",
       "      <td>178745400</td>\n",
       "    </tr>\n",
       "    <tr>\n",
       "      <th>2019-08-06</th>\n",
       "      <td>285.91</td>\n",
       "      <td>288.04</td>\n",
       "      <td>284.28</td>\n",
       "      <td>287.80</td>\n",
       "      <td>287.80</td>\n",
       "      <td>120711700</td>\n",
       "    </tr>\n",
       "    <tr>\n",
       "      <th>2019-08-07</th>\n",
       "      <td>284.40</td>\n",
       "      <td>288.82</td>\n",
       "      <td>282.04</td>\n",
       "      <td>287.97</td>\n",
       "      <td>287.97</td>\n",
       "      <td>140572300</td>\n",
       "    </tr>\n",
       "    <tr>\n",
       "      <th>2019-08-08</th>\n",
       "      <td>289.62</td>\n",
       "      <td>293.62</td>\n",
       "      <td>289.01</td>\n",
       "      <td>293.62</td>\n",
       "      <td>293.62</td>\n",
       "      <td>87713900</td>\n",
       "    </tr>\n",
       "    <tr>\n",
       "      <th>2019-08-09</th>\n",
       "      <td>292.58</td>\n",
       "      <td>293.24</td>\n",
       "      <td>289.65</td>\n",
       "      <td>291.62</td>\n",
       "      <td>291.62</td>\n",
       "      <td>89951300</td>\n",
       "    </tr>\n",
       "  </tbody>\n",
       "</table>\n",
       "</div>"
      ],
      "text/plain": [
       "            SPY_OPEN  SPY_HIGH  SPY_LOW  SPY_CLOSE  SPY_ADJ_CLOSE  SPY_VOLUME\n",
       "Date                                                                         \n",
       "2019-07-29    301.88    302.01   300.85     301.46         301.46    38126500\n",
       "2019-07-30    299.91    301.17   299.49     300.72         300.72    45849000\n",
       "2019-07-31    300.99    301.20   295.20     297.43         297.43   104245200\n",
       "2019-08-01    297.60    300.87   293.96     294.84         294.84   142646600\n",
       "2019-08-02    293.85    294.12   290.90     292.62         292.62   116749700\n",
       "2019-08-05    288.09    288.21   281.72     283.82         283.82   178745400\n",
       "2019-08-06    285.91    288.04   284.28     287.80         287.80   120711700\n",
       "2019-08-07    284.40    288.82   282.04     287.97         287.97   140572300\n",
       "2019-08-08    289.62    293.62   289.01     293.62         293.62    87713900\n",
       "2019-08-09    292.58    293.24   289.65     291.62         291.62    89951300"
      ]
     },
     "execution_count": 26,
     "metadata": {},
     "output_type": "execute_result"
    }
   ],
   "source": [
    "# Import yfinance\n",
    "import yfinance as yf  \n",
    "\n",
    "# bring data to current\n",
    "import datetime\n",
    "today = datetime.date.today()\n",
    "start = '1995-01-03' #beginning of SPY data\n",
    "\n",
    "# Get the data for the stock Apple by specifying \n",
    "# the stock ticker, start date, and end date\n",
    "data_spy = yf.download('SPY',start, today)\n",
    "\n",
    "# identify data that is nan\n",
    "data_spy.fillna(method='ffill')\n",
    "    \n",
    "# renaming columns to make merging of data frames easier (later)\n",
    "data_spy.columns = ['SPY_OPEN', 'SPY_HIGH', 'SPY_LOW', 'SPY_CLOSE', 'SPY_ADJ_CLOSE', 'SPY_VOLUME']\n",
    "\n",
    "#sanity check data\n",
    "data_spy.tail(10)"
   ]
  },
  {
   "cell_type": "code",
   "execution_count": 27,
   "metadata": {},
   "outputs": [
    {
     "data": {
      "image/png": "[encoded data removed]",
      "text/plain": [
       "<Figure size 432x288 with 1 Axes>"
      ]
     },
     "metadata": {
      "needs_background": "light"
     },
     "output_type": "display_data"
    }
   ],
   "source": [
    "data_spy.SPY_ADJ_CLOSE.plot()\n",
    "plt.show()"
   ]
  },
  {
   "cell_type": "code",
   "execution_count": 19,
   "metadata": {},
   "outputs": [],
   "source": [
    "# cache data for later use\n",
    "# identify missing data with nan for elimination later\n",
    "data_spy.to_csv('data/spy.csv')"
   ]
  },
  {
   "cell_type": "code",
   "execution_count": 24,
   "metadata": {},
   "outputs": [
    {
     "data": {
      "text/html": [
       "<div>\n",
       "<style scoped>\n",
       "    .dataframe tbody tr th:only-of-type {\n",
       "        vertical-align: middle;\n",
       "    }\n",
       "\n",
       "    .dataframe tbody tr th {\n",
       "        vertical-align: top;\n",
       "    }\n",
       "\n",
       "    .dataframe thead th {\n",
       "        text-align: right;\n",
       "    }\n",
       "</style>\n",
       "<table border=\"1\" class=\"dataframe\">\n",
       "  <thead>\n",
       "    <tr style=\"text-align: right;\">\n",
       "      <th></th>\n",
       "      <th>SPY_OPEN</th>\n",
       "      <th>SPY_HIGH</th>\n",
       "      <th>SPY_LOW</th>\n",
       "      <th>SPY_CLOSE</th>\n",
       "      <th>SPY_ADJ_CLOSE</th>\n",
       "      <th>SPY_VOLUME</th>\n",
       "    </tr>\n",
       "    <tr>\n",
       "      <th>Date</th>\n",
       "      <th></th>\n",
       "      <th></th>\n",
       "      <th></th>\n",
       "      <th></th>\n",
       "      <th></th>\n",
       "      <th></th>\n",
       "    </tr>\n",
       "  </thead>\n",
       "  <tbody>\n",
       "    <tr>\n",
       "      <th>2019-07-29</th>\n",
       "      <td>301.88</td>\n",
       "      <td>302.01</td>\n",
       "      <td>300.85</td>\n",
       "      <td>301.46</td>\n",
       "      <td>301.46</td>\n",
       "      <td>38126500</td>\n",
       "    </tr>\n",
       "    <tr>\n",
       "      <th>2019-07-30</th>\n",
       "      <td>299.91</td>\n",
       "      <td>301.17</td>\n",
       "      <td>299.49</td>\n",
       "      <td>300.72</td>\n",
       "      <td>300.72</td>\n",
       "      <td>45849000</td>\n",
       "    </tr>\n",
       "    <tr>\n",
       "      <th>2019-07-31</th>\n",
       "      <td>300.99</td>\n",
       "      <td>301.20</td>\n",
       "      <td>295.20</td>\n",
       "      <td>297.43</td>\n",
       "      <td>297.43</td>\n",
       "      <td>104245200</td>\n",
       "    </tr>\n",
       "    <tr>\n",
       "      <th>2019-08-01</th>\n",
       "      <td>297.60</td>\n",
       "      <td>300.87</td>\n",
       "      <td>293.96</td>\n",
       "      <td>294.84</td>\n",
       "      <td>294.84</td>\n",
       "      <td>142646600</td>\n",
       "    </tr>\n",
       "    <tr>\n",
       "      <th>2019-08-02</th>\n",
       "      <td>293.85</td>\n",
       "      <td>294.12</td>\n",
       "      <td>290.90</td>\n",
       "      <td>292.62</td>\n",
       "      <td>292.62</td>\n",
       "      <td>116749700</td>\n",
       "    </tr>\n",
       "    <tr>\n",
       "      <th>2019-08-05</th>\n",
       "      <td>288.09</td>\n",
       "      <td>288.21</td>\n",
       "      <td>281.72</td>\n",
       "      <td>283.82</td>\n",
       "      <td>283.82</td>\n",
       "      <td>178745400</td>\n",
       "    </tr>\n",
       "    <tr>\n",
       "      <th>2019-08-06</th>\n",
       "      <td>285.91</td>\n",
       "      <td>288.04</td>\n",
       "      <td>284.28</td>\n",
       "      <td>287.80</td>\n",
       "      <td>287.80</td>\n",
       "      <td>120711700</td>\n",
       "    </tr>\n",
       "    <tr>\n",
       "      <th>2019-08-07</th>\n",
       "      <td>284.40</td>\n",
       "      <td>288.82</td>\n",
       "      <td>282.04</td>\n",
       "      <td>287.97</td>\n",
       "      <td>287.97</td>\n",
       "      <td>140572300</td>\n",
       "    </tr>\n",
       "    <tr>\n",
       "      <th>2019-08-08</th>\n",
       "      <td>289.62</td>\n",
       "      <td>293.62</td>\n",
       "      <td>289.01</td>\n",
       "      <td>293.62</td>\n",
       "      <td>293.62</td>\n",
       "      <td>87713900</td>\n",
       "    </tr>\n",
       "    <tr>\n",
       "      <th>2019-08-09</th>\n",
       "      <td>292.58</td>\n",
       "      <td>293.24</td>\n",
       "      <td>289.65</td>\n",
       "      <td>291.62</td>\n",
       "      <td>291.62</td>\n",
       "      <td>89951300</td>\n",
       "    </tr>\n",
       "  </tbody>\n",
       "</table>\n",
       "</div>"
      ],
      "text/plain": [
       "            SPY_OPEN  SPY_HIGH  SPY_LOW  SPY_CLOSE  SPY_ADJ_CLOSE  SPY_VOLUME\n",
       "Date                                                                         \n",
       "2019-07-29    301.88    302.01   300.85     301.46         301.46    38126500\n",
       "2019-07-30    299.91    301.17   299.49     300.72         300.72    45849000\n",
       "2019-07-31    300.99    301.20   295.20     297.43         297.43   104245200\n",
       "2019-08-01    297.60    300.87   293.96     294.84         294.84   142646600\n",
       "2019-08-02    293.85    294.12   290.90     292.62         292.62   116749700\n",
       "2019-08-05    288.09    288.21   281.72     283.82         283.82   178745400\n",
       "2019-08-06    285.91    288.04   284.28     287.80         287.80   120711700\n",
       "2019-08-07    284.40    288.82   282.04     287.97         287.97   140572300\n",
       "2019-08-08    289.62    293.62   289.01     293.62         293.62    87713900\n",
       "2019-08-09    292.58    293.24   289.65     291.62         291.62    89951300"
      ]
     },
     "execution_count": 24,
     "metadata": {},
     "output_type": "execute_result"
    }
   ],
   "source": [
    "# read data back in - mainly for reproducibility,\n",
    "# and/or not wanting to download new data...\n",
    "def parse(x):\n",
    "    return pd.to_datetime(x, infer_datetime_format=True)\n",
    "\n",
    "data_spy = read_csv('data/spy.csv', date_parser=parse, index_col=0)\n",
    "\n",
    "#sanity\n",
    "data_spy.tail(10)"
   ]
  },
  {
   "cell_type": "code",
   "execution_count": 25,
   "metadata": {},
   "outputs": [
    {
     "data": {
      "image/png": "[encoded data removed]",
      "text/plain": [
       "<Figure size 432x288 with 1 Axes>"
      ]
     },
     "metadata": {
      "needs_background": "light"
     },
     "output_type": "display_data"
    }
   ],
   "source": [
    "# sanity \n",
    "data_spy.SPY_ADJ_CLOSE.plot()\n",
    "plt.show()"
   ]
  },
  {
   "cell_type": "code",
   "execution_count": 29,
   "metadata": {},
   "outputs": [],
   "source": [
    "# get values for LSTM processing\n",
    "values = data_spy.values\n",
    "values = values.astype('float32')"
   ]
  },
  {
   "cell_type": "code",
   "execution_count": 31,
   "metadata": {},
   "outputs": [],
   "source": [
    "# normalize features\n",
    "from sklearn.preprocessing import MinMaxScaler\n",
    "from sklearn.preprocessing import LabelEncoder\n",
    "from sklearn.metrics import mean_squared_error\n",
    "scaler = MinMaxScaler(feature_range=(0, 1))\n",
    "scaled = scaler.fit_transform(values)"
   ]
  },
  {
   "cell_type": "code",
   "execution_count": 35,
   "metadata": {},
   "outputs": [],
   "source": [
    "def series_to_supervised(data, n_in=1, n_out=1, dropnan=True):\n",
    "    n_vars = 1 if type(data) is list else data.shape[1]\n",
    "    df = DataFrame(data)\n",
    "    cols, names = list(), list()\n",
    "    # input sequence (t-n, ... t-1)\n",
    "    for i in range(n_in, 0, -1):\n",
    "        cols.append(df.shift(i))\n",
    "        names += [('var%d(t-%d)' % (j+1, i)) for j in range(n_vars)]\n",
    "    # forecast sequence (t, t+1, ... t+n)\n",
    "    for i in range(0, n_out):\n",
    "        cols.append(df.shift(-i))\n",
    "        if i == 0:\n",
    "            names += [('var%d(t)' % (j+1)) for j in range(n_vars)]\n",
    "        else:\n",
    "            names += [('var%d(t+%d)' % (j+1, i)) for j in range(n_vars)]\n",
    "    # put it all together\n",
    "    agg = concat(cols, axis=1)\n",
    "    agg.columns = names\n",
    "    # drop rows with NaN values\n",
    "    if dropnan:\n",
    "        agg.dropna(inplace=True)\n",
    "    return agg"
   ]
  },
  {
   "cell_type": "code",
   "execution_count": 37,
   "metadata": {},
   "outputs": [
    {
     "name": "stdout",
     "output_type": "stream",
     "text": [
      "      var1(t-1)  var2(t-1)  var3(t-1)  var4(t-1)  var5(t-1)  var6(t-1)  \\\n",
      "6190   0.968655   0.968368   0.961005   0.963353   0.965569   0.134027   \n",
      "6191   0.946171   0.945318   0.925028   0.929009   0.933302   0.205204   \n",
      "6192   0.937661   0.944655   0.935060   0.944542   0.947895   0.138576   \n",
      "6193   0.931767   0.947697   0.926282   0.945206   0.948519   0.161378   \n",
      "6194   0.952143   0.966418   0.953598   0.967256   0.969236   0.100692   \n",
      "\n",
      "       var1(t)   var2(t)   var3(t)   var4(t)   var5(t)   var6(t)  \n",
      "6190  0.946171  0.945318  0.925028  0.929009  0.933302  0.205204  \n",
      "6191  0.937661  0.944655  0.935060  0.944542  0.947895  0.138576  \n",
      "6192  0.931767  0.947697  0.926282  0.945206  0.948519  0.161378  \n",
      "6193  0.952143  0.966418  0.953598  0.967256  0.969236  0.100692  \n",
      "6194  0.963697  0.964936  0.956106  0.959450  0.961902  0.103261  \n"
     ]
    }
   ],
   "source": [
    "# frame as supervised learning\n",
    "supervised = series_to_supervised(scaled, 1, 1)\n",
    "# drop columns that are not predicted\n",
    "#supervised.drop(supervised.columns[[10,11,12,13,15,16,17,18,19]], axis=1, inplace=True)\n",
    "print(supervised.tail())\n",
    "\n",
    "# split into train and test sets\n",
    "values = supervised.values"
   ]
  },
  {
   "cell_type": "code",
   "execution_count": 39,
   "metadata": {},
   "outputs": [
    {
     "name": "stdout",
     "output_type": "stream",
     "text": [
      "(5040, 12) (1154, 12)\n"
     ]
    }
   ],
   "source": [
    "n_train_days = 252 * 20 #  252 trading days per year muliplied by X years\n",
    "train = values[:n_train_days, :]\n",
    "test = values[n_train_days:, :]\t\n",
    "print(train.shape, test.shape)"
   ]
  },
  {
   "cell_type": "code",
   "execution_count": 40,
   "metadata": {},
   "outputs": [
    {
     "name": "stdout",
     "output_type": "stream",
     "text": [
      "(5040, 11) (5040,) (1154, 11) (1154,)\n",
      "(5040, 1, 11) (5040,) (1154, 1, 11) (1154,)\n"
     ]
    }
   ],
   "source": [
    "# split into input and outputs\n",
    "X_train, y_train = train[:, :-1], train[:, -1]\n",
    "X_test, y_test = test[:, :-1], test[:, -1]\n",
    "print(X_train.shape, y_train.shape, X_test.shape, y_test.shape)\n",
    "# reshape input to be 3D [samples, timesteps, features]\n",
    "X_train = X_train.reshape((X_train.shape[0], 1, X_train.shape[1]))\n",
    "X_test = X_test.reshape((X_test.shape[0], 1, X_test.shape[1]))\n",
    "print(X_train.shape, y_train.shape, X_test.shape, y_test.shape)"
   ]
  },
  {
   "cell_type": "code",
   "execution_count": null,
   "metadata": {},
   "outputs": [],
   "source": []
  }
 ],
 "metadata": {
  "kernelspec": {
   "display_name": "Python 3",
   "language": "python",
   "name": "python3"
  },
  "language_info": {
   "codemirror_mode": {
    "name": "ipython",
    "version": 3
   },
   "file_extension": ".py",
   "mimetype": "text/x-python",
   "name": "python",
   "nbconvert_exporter": "python",
   "pygments_lexer": "ipython3",
   "version": "3.7.3"
  }
 },
 "nbformat": 4,
 "nbformat_minor": 2
}
